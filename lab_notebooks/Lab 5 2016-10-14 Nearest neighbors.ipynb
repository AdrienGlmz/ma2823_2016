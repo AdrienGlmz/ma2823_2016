{
 "cells": [
  {
   "cell_type": "markdown",
   "metadata": {},
   "source": [
    "# 2016-10-14: Nearest neighbors\n",
    "In this lab, we will apply nearest neighbors classification to the Endometrium vs. Uterus cancer data. For documentation see: http://scikit-learn.org/stable/modules/neighbors.html#nearest-neighbors-classification and http://scikit-learn.org/stable/modules/generated/sklearn.neighbors.KNeighborsClassifier.html#sklearn.neighbors.KNeighborsClassifier\n",
    "\n",
    "Let us start by setting up our environment, loading the data, and setting up our cross-validation."
   ]
  },
  {
   "cell_type": "code",
   "execution_count": 1,
   "metadata": {
    "collapsed": false
   },
   "outputs": [
    {
     "name": "stdout",
     "output_type": "stream",
     "text": [
      "Populating the interactive namespace from numpy and matplotlib\n"
     ]
    }
   ],
   "source": [
    "import numpy as np\n",
    "%pylab inline"
   ]
  },
  {
   "cell_type": "markdown",
   "metadata": {},
   "source": [
    "**Question** Load the data as in the previous lab."
   ]
  },
  {
   "cell_type": "code",
   "execution_count": 2,
   "metadata": {
    "collapsed": false
   },
   "outputs": [
    {
     "name": "stdout",
     "output_type": "stream",
     "text": [
      "[0 0 0 0 0 0 0 1 1 1 1 1 1 1 1 1 1 1 1 0 0 0 0 0 0 1 1 1 1 1 1 1 1 1 1 1 1\n",
      " 1 0 0 0 0 0 0 1 1 1 1 1 1 1 1 1 1 1 1 0 0 0 0 0 0 1 1 1 1 1 1 1 1 1 1 1 1\n",
      " 1 0 0 0 0 0 0 1 1 1 1 1 1 1 1 1 1 1 1 1 0 0 0 0 0 0 1 1 1 1 1 1 1 1 1 1 1\n",
      " 1 0 0 0 0 0 0 1 1 1 1 1 1 1 1 1 1 1 1 0 0 0 0 0 0 1 1 1 1 1 1 1 1 1 1 1 1\n",
      " 0 0 0 0 0 0 1 1 1 1 1 1 1 1 1 1 1 0 0 0 0 0 0 1 1 1 1 1 1 1 1 1 1 1 1]\n"
     ]
    }
   ],
   "source": [
    "# Load the data\n",
    "X = np.loadtxt('data/small_Endometrium_Uterus.csv',  delimiter=',', skiprows=1, usecols=range(1, 3001))\n",
    "\n",
    "# Python 3\n",
    "y = np.loadtxt('data/small_Endometrium_Uterus.csv', delimiter=',', \n",
    "               skiprows=1, usecols=[3001], dtype='bytes').astype('str')\n",
    "#Convert 'Endometrium' to 0 and 'Uterus' to 1\n",
    "y = np.where(y=='Endometrium', 0, 1)\n",
    "\n",
    "print(y)"
   ]
  },
  {
   "cell_type": "code",
   "execution_count": 3,
   "metadata": {
    "collapsed": false
   },
   "outputs": [],
   "source": [
    "# Set up a stratified 10-fold cross-validation\n",
    "from sklearn import cross_validation\n",
    "folds = cross_validation.StratifiedKFold(y, 10, shuffle=True)"
   ]
  },
  {
   "cell_type": "code",
   "execution_count": 4,
   "metadata": {
    "collapsed": true
   },
   "outputs": [],
   "source": [
    "# This is the cross-validation method with scaling we defined in the previous labs. \n",
    "from sklearn import preprocessing\n",
    "def cross_validate(design_matrix, labels, classifier, cv_folds):\n",
    "    \"\"\" Perform a cross-validation and returns the predictions. \n",
    "   \n",
    "    Parameters:\n",
    "    -----------\n",
    "    design_matrix: (n_samples, n_features) np.array\n",
    "        Design matrix for the experiment.\n",
    "    labels: (n_samples, ) np.array\n",
    "        Vector of labels.\n",
    "    classifier:  sklearn classifier object\n",
    "        Classifier instance; must have the following methods:\n",
    "        - fit(X, y) to train the classifier on the data X, y\n",
    "        - predict_proba(X) to apply the trained classifier to the data X and return probability estimates \n",
    "    cv_folds: sklearn cross-validation object\n",
    "        Cross-validation iterator.\n",
    "        \n",
    "    Return:\n",
    "    -------\n",
    "    pred: (n_samples, ) np.array\n",
    "        Vectors of predictions (same order as labels).\n",
    "    \"\"\"\n",
    "    pred = np.zeros(labels.shape)\n",
    "    for tr, te in cv_folds:\n",
    "        # Restrict data to train/test folds\n",
    "        Xtr = design_matrix[tr, :]\n",
    "        ytr = labels[tr]\n",
    "        Xte = design_matrix[te, :]\n",
    "\n",
    "        # Scale data\n",
    "        scaler = preprocessing.StandardScaler() # create scaler\n",
    "        Xtr = scaler.fit_transform(Xtr) # fit the scaler to the training data and transform training data\n",
    "        Xte = scaler.transform(Xte) # transform test data\n",
    "        \n",
    "        # Fit classifier\n",
    "        classifier.fit(Xtr, ytr)\n",
    "\n",
    "        # Predict probabilities (of belonging to +1 class) on test data\n",
    "        yte_pred = classifier.predict_proba(Xte)\n",
    "        pred[te] = yte_pred[:, 1]                \n",
    "    return pred"
   ]
  },
  {
   "cell_type": "markdown",
   "metadata": {},
   "source": [
    "**Question** A nearest-neighbors classifier with k neighbors can be instantiated as:\n",
    "```clf = neighbors.KNeighborsClassifier(n_neighbors=k)```\n",
    "\n",
    "Cross-validate 15 nearest-neighbors classifiers, for k ranging from 1 to 29 (odd values of k only). Plot the area under the ROC curves you obtained as a function of k. \n",
    "\n",
    "Why are we not using even values for k?"
   ]
  },
  {
   "cell_type": "markdown",
   "metadata": {},
   "source": [
    "**Answer** We're not using even values for K because it's impossible to solve the classification problem if a data point has k/2 neighbors belongigs to 1 classes and k/2 neighbors belongings to the other classes."
   ]
  },
  {
   "cell_type": "code",
   "execution_count": 28,
   "metadata": {
    "collapsed": false
   },
   "outputs": [],
   "source": [
    "from sklearn import neighbors\n",
    "from sklearn import metrics\n",
    "aurocs = []\n",
    "\n",
    "for k in range(1, 30, 2): # values from 1 to 30, with a step size of 2\n",
    "    #Instantiate the classifier\n",
    "    clf = neighbors.KNeighborsClassifier(n_neighbors=k)\n",
    "    \n",
    "    #Compute the ypred vector using cross_validation\n",
    "    ypred = cross_validate(X,y,clf,folds)\n",
    "    \n",
    "    #Compute metrics\n",
    "    fpr, tpr, thresholds = metrics.roc_curve(y, ypred, pos_label=1)\n",
    "    aurocs.append(metrics.auc(fpr, tpr))"
   ]
  },
  {
   "cell_type": "code",
   "execution_count": 8,
   "metadata": {
    "collapsed": false
   },
   "outputs": [
    {
     "data": {
      "text/plain": [
       "<matplotlib.text.Text at 0x10dac5128>"
      ]
     },
     "execution_count": 8,
     "metadata": {},
     "output_type": "execute_result"
    },
    {
     "data": {
      "image/png": "[encoded data removed]",
      "text/plain": [
       "<matplotlib.figure.Figure at 0x10caa49b0>"
      ]
     },
     "metadata": {},
     "output_type": "display_data"
    }
   ],
   "source": [
    "plt.plot(range(1, 30, 2), aurocs, color='blue')\n",
    "plt.xlabel('Number of nearest neighbors', fontsize=16)\n",
    "plt.ylabel('Cross-validated AUC', fontsize=16)\n",
    "plt.title('Nearest neighbors classification', fontsize=16)"
   ]
  },
  {
   "cell_type": "markdown",
   "metadata": {},
   "source": [
    "**Question** Use 'grid_search.GridSearchCV' to set the optimal value of k automatically. On the previous plot, plot the area under the ROC curve you obtain as a horizontal line."
   ]
  },
  {
   "cell_type": "code",
   "execution_count": 31,
   "metadata": {
    "collapsed": false
   },
   "outputs": [
    {
     "name": "stdout",
     "output_type": "stream",
     "text": [
      "KNeighborsClassifier(algorithm='auto', leaf_size=30, metric='minkowski',\n",
      "           metric_params=None, n_jobs=1, n_neighbors=5, p=2,\n",
      "           weights='uniform')\n"
     ]
    },
    {
     "data": {
      "text/plain": [
       "<matplotlib.text.Text at 0x111b8f6a0>"
      ]
     },
     "execution_count": 31,
     "metadata": {},
     "output_type": "execute_result"
    },
    {
     "data": {
      "image/png": "[encoded data removed]",
      "text/plain": [
       "<matplotlib.figure.Figure at 0x10dab9550>"
      ]
     },
     "metadata": {},
     "output_type": "display_data"
    }
   ],
   "source": [
    "from sklearn import grid_search\n",
    "param_grid = {'n_neighbors': np.arange(1,30,2)}\n",
    "clf_optimized = grid_search.GridSearchCV(neighbors.KNeighborsClassifier(), param_grid)\n",
    "\n",
    "ypred_optimized = cross_validate(X,y,clf_optimized,folds)\n",
    "#print(clf_optimized.best_params_)\n",
    "print(clf_optimized.best_estimator_)\n",
    "\n",
    "fpr, tpr, thresholds = metrics.roc_curve(y, ypred_optimized, pos_label=1)\n",
    "auc_optimized = metrics.auc(fpr, tpr)\n",
    "\n",
    "auc = [auc_optimized]*len(np.arange(1,30,2))\n",
    "\n",
    "plt.plot(range(1, 30, 2), aurocs, color='blue')\n",
    "plt.plot(range(1, 30, 2), auc, color='red')\n",
    "plt.xlabel('Number of nearest neighbors', fontsize=16)\n",
    "plt.ylabel('Cross-validated AUC', fontsize=16)\n",
    "plt.title('Nearest neighbors classification', fontsize=16)\n"
   ]
  },
  {
   "cell_type": "markdown",
   "metadata": {},
   "source": [
    "**Comment** If the area under the ROC curve is lower than what you were expecting, check the score (i.e. `scoring` parameter) for which the grid search CV parameter was optimized."
   ]
  },
  {
   "cell_type": "markdown",
   "metadata": {},
   "source": [
    "Let us look at the optimal value of the parameter k returned for the last fold."
   ]
  },
  {
   "cell_type": "code",
   "execution_count": 33,
   "metadata": {
    "collapsed": false
   },
   "outputs": [
    {
     "name": "stdout",
     "output_type": "stream",
     "text": [
      "{'n_neighbors': 5}\n"
     ]
    }
   ],
   "source": [
    "print(clf_optimized.best_params_)"
   ]
  },
  {
   "cell_type": "markdown",
   "metadata": {},
   "source": [
    "**Question** Modify ```cross_validate(design_matrix, labels, classifier, cv_folds)``` to take as classifier a GridSearchCV instance and print the best parameter(s) for each fold."
   ]
  },
  {
   "cell_type": "code",
   "execution_count": 47,
   "metadata": {
    "collapsed": true
   },
   "outputs": [],
   "source": [
    "def cross_validate_optimize(design_matrix, labels, classifier, cv_folds):\n",
    "    \"\"\" Perform a cross-validation and returns the predictions. \n",
    "   \n",
    "    Parameters:\n",
    "    -----------\n",
    "    design_matrix: (n_samples, n_features) np.array\n",
    "        Design matrix for the experiment.\n",
    "    labels: (n_samples, ) np.array\n",
    "        Vector of labels.\n",
    "    classifier:  sklearn GridSearchCV object\n",
    "        GridSearchCV instance; must have the following methods/attributes:\n",
    "        - fit(X, y) to train the classifier on the data X, y\n",
    "        - predict_proba(X) to apply the trained classifier to the data X and return probability estimates \n",
    "    cv_folds: sklearn cross-validation object\n",
    "        - best_params_ the best parameter dictionary\n",
    "        Cross-validation iterator.\n",
    "        \n",
    "    Return:\n",
    "    -------\n",
    "    pred: (n_samples, ) np.array\n",
    "        Vector of predictions (same order as labels).\n",
    "    \"\"\"\n",
    "    pred = np.zeros(labels.shape)\n",
    "    i = 1\n",
    "    for tr, te in cv_folds:\n",
    "        # Restrict data to train/test folds\n",
    "        Xtr = design_matrix[tr, :]\n",
    "        ytr = labels[tr]\n",
    "        Xte = design_matrix[te, :]\n",
    "\n",
    "        # Scale data\n",
    "        scaler = preprocessing.StandardScaler() # create scaler\n",
    "        Xtr = scaler.fit_transform(Xtr) # fit the scaler to the training data and transform training data\n",
    "        Xte = scaler.transform(Xte) # transform test data\n",
    "        \n",
    "        # Fit classifier\n",
    "        #param_grid = {'n_neighbors': np.arange(1,30,2)}\n",
    "        #clf_optimized = grid_search.GridSearchCV(classifier, param_grid)\n",
    "        classifier.fit(Xtr, ytr)\n",
    "\n",
    "        print('Folds {}, number of nearest neighbors {}'.format(i,classifier.best_params_))\n",
    "        # Predict probabilities (of belonging to +1 class) on test data\n",
    "        yte_pred = classifier.predict_proba(Xte)\n",
    "        pred[te] = yte_pred[:, 1]\n",
    "        i += 1\n",
    "    return pred"
   ]
  },
  {
   "cell_type": "markdown",
   "metadata": {},
   "source": [
    "**Question** How many nearest neighbors were chosen for each fold? How stable is this value?"
   ]
  },
  {
   "cell_type": "code",
   "execution_count": 57,
   "metadata": {
    "collapsed": false
   },
   "outputs": [
    {
     "name": "stdout",
     "output_type": "stream",
     "text": [
      "Folds 1, number of nearest neighbors {'n_neighbors': 27}\n",
      "Folds 2, number of nearest neighbors {'n_neighbors': 29}\n",
      "Folds 3, number of nearest neighbors {'n_neighbors': 29}\n",
      "Folds 4, number of nearest neighbors {'n_neighbors': 29}\n",
      "Folds 5, number of nearest neighbors {'n_neighbors': 17}\n",
      "Folds 6, number of nearest neighbors {'n_neighbors': 27}\n",
      "Folds 7, number of nearest neighbors {'n_neighbors': 29}\n",
      "Folds 8, number of nearest neighbors {'n_neighbors': 19}\n",
      "Folds 9, number of nearest neighbors {'n_neighbors': 29}\n",
      "Folds 10, number of nearest neighbors {'n_neighbors': 29}\n"
     ]
    }
   ],
   "source": [
    "from sklearn import grid_search\n",
    "param_grid = {'n_neighbors': list(range(1, 30, 2))}\n",
    "clf = grid_search.GridSearchCV(neighbors.KNeighborsClassifier(), param_grid, scoring='roc_auc')\n",
    "ypred_knn = cross_validate_optimize(X, y, clf, folds)\n",
    "fpr_knn, tpr_knn, thresholds = metrics.roc_curve(y, ypred_knn, pos_label=1)"
   ]
  },
  {
   "cell_type": "markdown",
   "metadata": {},
   "source": [
    "**Question** How does the nearest-neighbors classifier compare to the linear regression (regularized or not)? Plot ROC curves."
   ]
  },
  {
   "cell_type": "code",
   "execution_count": 60,
   "metadata": {
    "collapsed": true
   },
   "outputs": [],
   "source": [
    "from sklearn import preprocessing\n",
    "def cross_validate_with_scaling(design_matrix, labels, classifier, cv_folds):\n",
    "    \"\"\" Perform a cross-validation and returns the predictions. \n",
    "    Use a scaler to scale the features to mean 0, standard deviation 1.\n",
    "    \n",
    "    Parameters:\n",
    "    -----------\n",
    "    design_matrix: (n_samples, n_features) np.array\n",
    "        Design matrix for the experiment.\n",
    "    labels: (n_samples, ) np.array\n",
    "        Vector of labels.\n",
    "    classifier:  sklearn classifier object\n",
    "        Classifier instance; must have the following methods:\n",
    "        - fit(X, y) to train the classifier on the data X, y\n",
    "        - predict_proba(X) to apply the trained classifier to the data X and return probability estimates \n",
    "    cv_folds: sklearn cross-validation object\n",
    "        Cross-validation iterator.\n",
    "        \n",
    "    Return:\n",
    "    -------\n",
    "    pred: (n_samples, ) np.array\n",
    "        Vectors of predictions (same order as labels).\n",
    "    \"\"\"\n",
    "    pred = np.zeros(labels.shape) # vector of 0 in which to store the predictions\n",
    "    for tr, te in cv_folds:\n",
    "        # Restrict data to train/test folds\n",
    "        Xtr = design_matrix[tr, :]\n",
    "        ytr = labels[tr]\n",
    "        Xte = design_matrix[te, :]\n",
    "        #print Xtr.shape, ytr.shape, Xte.shape\n",
    "\n",
    "        # Scale data\n",
    "        scaler = preprocessing.StandardScaler() # create scaler\n",
    "        Xtr = scaler.fit_transform(Xtr) # fit the scaler to the training data and transform training data\n",
    "        Xte = scaler.transform(Xte) # transform test data\n",
    "\n",
    "        # Fit classifier\n",
    "        classifier.fit(Xtr, ytr)\n",
    "\n",
    "        # Predict probabilities (of belonging to +1 class) on test data\n",
    "        yte_pred = classifier.predict_proba(Xte) # two-dimensional array\n",
    "        # Identify the index, in yte_pred, of the positive class (y=1)\n",
    "        # index_of_class_1 = np.nonzero(classifier.classes_ == 1)[0][0] \n",
    "        index_of_class_1 = 1 - ytr[0] # 0 if the first sample is positive, 1 otherwise\n",
    "        pred[te] = yte_pred[:, index_of_class_1]                \n",
    "    return pred"
   ]
  },
  {
   "cell_type": "code",
   "execution_count": 63,
   "metadata": {
    "collapsed": false
   },
   "outputs": [
    {
     "ename": "ValueError",
     "evalue": "Can't handle mix of binary and continuous",
     "output_type": "error",
     "traceback": [
      "\u001b[0;31m---------------------------------------------------------------------------\u001b[0m",
      "\u001b[0;31mValueError\u001b[0m                                Traceback (most recent call last)",
      "\u001b[0;32m<ipython-input-63-061237e7dc97>\u001b[0m in \u001b[0;36m<module>\u001b[0;34m()\u001b[0m\n\u001b[1;32m      4\u001b[0m \u001b[0;31m#ypred_logreg_L1 = cross_validate_with_scaling(X,y,clf_L1_optimized,folds)\u001b[0m\u001b[0;34m\u001b[0m\u001b[0;34m\u001b[0m\u001b[0m\n\u001b[1;32m      5\u001b[0m \u001b[0;34m\u001b[0m\u001b[0m\n\u001b[0;32m----> 6\u001b[0;31m \u001b[0mprint\u001b[0m\u001b[0;34m(\u001b[0m\u001b[0;34m\"Accuracy with knn: %.3f\"\u001b[0m \u001b[0;34m%\u001b[0m \u001b[0mmetrics\u001b[0m\u001b[0;34m.\u001b[0m\u001b[0maccuracy_score\u001b[0m\u001b[0;34m(\u001b[0m\u001b[0my\u001b[0m\u001b[0;34m,\u001b[0m \u001b[0mypred_knn\u001b[0m\u001b[0;34m)\u001b[0m\u001b[0;34m)\u001b[0m\u001b[0;34m\u001b[0m\u001b[0m\n\u001b[0m\u001b[1;32m      7\u001b[0m \u001b[0mprint\u001b[0m\u001b[0;34m(\u001b[0m\u001b[0;34m\"Accuracy with L1 regularization: %.3f\"\u001b[0m \u001b[0;34m%\u001b[0m \u001b[0mmetrics\u001b[0m\u001b[0;34m.\u001b[0m\u001b[0maccuracy_score\u001b[0m\u001b[0;34m(\u001b[0m\u001b[0my\u001b[0m\u001b[0;34m,\u001b[0m \u001b[0mypred_logreg_L1\u001b[0m\u001b[0;34m)\u001b[0m\u001b[0;34m)\u001b[0m\u001b[0;34m\u001b[0m\u001b[0m\n\u001b[1;32m      8\u001b[0m \u001b[0;34m\u001b[0m\u001b[0m\n",
      "\u001b[0;32m/Users/adrien/anaconda/lib/python3.5/site-packages/sklearn/metrics/classification.py\u001b[0m in \u001b[0;36maccuracy_score\u001b[0;34m(y_true, y_pred, normalize, sample_weight)\u001b[0m\n\u001b[1;32m    170\u001b[0m \u001b[0;34m\u001b[0m\u001b[0m\n\u001b[1;32m    171\u001b[0m     \u001b[0;31m# Compute accuracy for each possible representation\u001b[0m\u001b[0;34m\u001b[0m\u001b[0;34m\u001b[0m\u001b[0m\n\u001b[0;32m--> 172\u001b[0;31m     \u001b[0my_type\u001b[0m\u001b[0;34m,\u001b[0m \u001b[0my_true\u001b[0m\u001b[0;34m,\u001b[0m \u001b[0my_pred\u001b[0m \u001b[0;34m=\u001b[0m \u001b[0m_check_targets\u001b[0m\u001b[0;34m(\u001b[0m\u001b[0my_true\u001b[0m\u001b[0;34m,\u001b[0m \u001b[0my_pred\u001b[0m\u001b[0;34m)\u001b[0m\u001b[0;34m\u001b[0m\u001b[0m\n\u001b[0m\u001b[1;32m    173\u001b[0m     \u001b[0;32mif\u001b[0m \u001b[0my_type\u001b[0m\u001b[0;34m.\u001b[0m\u001b[0mstartswith\u001b[0m\u001b[0;34m(\u001b[0m\u001b[0;34m'multilabel'\u001b[0m\u001b[0;34m)\u001b[0m\u001b[0;34m:\u001b[0m\u001b[0;34m\u001b[0m\u001b[0m\n\u001b[1;32m    174\u001b[0m         \u001b[0mdiffering_labels\u001b[0m \u001b[0;34m=\u001b[0m \u001b[0mcount_nonzero\u001b[0m\u001b[0;34m(\u001b[0m\u001b[0my_true\u001b[0m \u001b[0;34m-\u001b[0m \u001b[0my_pred\u001b[0m\u001b[0;34m,\u001b[0m \u001b[0maxis\u001b[0m\u001b[0;34m=\u001b[0m\u001b[0;36m1\u001b[0m\u001b[0;34m)\u001b[0m\u001b[0;34m\u001b[0m\u001b[0m\n",
      "\u001b[0;32m/Users/adrien/anaconda/lib/python3.5/site-packages/sklearn/metrics/classification.py\u001b[0m in \u001b[0;36m_check_targets\u001b[0;34m(y_true, y_pred)\u001b[0m\n\u001b[1;32m     80\u001b[0m     \u001b[0;32mif\u001b[0m \u001b[0mlen\u001b[0m\u001b[0;34m(\u001b[0m\u001b[0my_type\u001b[0m\u001b[0;34m)\u001b[0m \u001b[0;34m>\u001b[0m \u001b[0;36m1\u001b[0m\u001b[0;34m:\u001b[0m\u001b[0;34m\u001b[0m\u001b[0m\n\u001b[1;32m     81\u001b[0m         raise ValueError(\"Can't handle mix of {0} and {1}\"\n\u001b[0;32m---> 82\u001b[0;31m                          \"\".format(type_true, type_pred))\n\u001b[0m\u001b[1;32m     83\u001b[0m \u001b[0;34m\u001b[0m\u001b[0m\n\u001b[1;32m     84\u001b[0m     \u001b[0;31m# We can't have more than one value on y_type => The set is no more needed\u001b[0m\u001b[0;34m\u001b[0m\u001b[0;34m\u001b[0m\u001b[0m\n",
      "\u001b[0;31mValueError\u001b[0m: Can't handle mix of binary and continuous"
     ]
    }
   ],
   "source": [
    "from sklearn import linear_model\n",
    "param_grid_L1 = {'C': np.power(10.0, np.arange(-10, 10))}\n",
    "#clf_L1_optimized = grid_search.GridSearchCV(linear_model.LogisticRegression(penalty='l1'), param_grid)\n",
    "#ypred_logreg_L1 = cross_validate_with_scaling(X,y,clf_L1_optimized,folds)\n",
    "\n",
    "print(\"Accuracy with knn: %.3f\" % metrics.accuracy_score(y, ypred_knn))\n",
    "print(\"Accuracy with L1 regularization: %.3f\" % metrics.accuracy_score(y, ypred_logreg_L1))\n",
    "\n",
    "#Compute AUC\n",
    "auc_knn = metrics.auc(fpr_knn, tpr_knn)\n",
    "auc_logreg_L1 = metrics.auc(fpr_logreg_L1, tpr_logreg_L1)\n",
    "\n",
    "#Plot\n",
    "fig = plt.figure(figsize=(18, 7))\n",
    "\n",
    "#Plot knn\n",
    "fig.add_subplot(121) # 2 x 2 grid, 1st subplot\n",
    "plt.plot(fpr_knn, tpr_knn, '-', color='orange', label='AUC = %0.3f' % auc_logreg)\n",
    "\n",
    "plt.xlabel('False Positive Rate', fontsize=16)\n",
    "plt.ylabel('True Positive Rate', fontsize=16)\n",
    "plt.title('ROC curve: Logistic regression', fontsize=16)\n",
    "plt.legend(loc=\"lower right\")\n",
    "\n",
    "#Plot L1 with regularization\n",
    "fig.add_subplot(122) # 2 x 2 grid, 1st subplot\n",
    "plt.plot(fpr_logreg_L1, tpr_logreg_L1, '-', color='blue', label='AUC = %0.3f' % auc_logreg_L1)\n",
    "\n",
    "plt.xlabel('False Positive Rate', fontsize=16)\n",
    "plt.ylabel('True Positive Rate', fontsize=16)\n",
    "plt.title('ROC curve: Logistic regression with L1 regularization', fontsize=16)\n",
    "plt.legend(loc=\"lower right\")"
   ]
  },
  {
   "cell_type": "code",
   "execution_count": null,
   "metadata": {
    "collapsed": false
   },
   "outputs": [],
   "source": []
  },
  {
   "cell_type": "markdown",
   "metadata": {},
   "source": [
    "**Question** What distance was used to define nearest neighbors? What other distances can you use? How does this affect performance?"
   ]
  },
  {
   "cell_type": "markdown",
   "metadata": {},
   "source": [
    "## Kaggle challenge\n",
    "You can find the documentation for nearest neighbors regression here: http://scikit-learn.org/stable/modules/neighbors.html#nearest-neighbors-regression \n",
    "* What parameters can you change?\n",
    "* Cross-validate several different nearest neighbors regressors (different=that use different parameters) on your data, using the folds you previously set up. How do the different variants of nearest neighbors compare to each other? How do they compare to performance obtained with other algorithms?\n",
    "* Submit predictions to the leaderboard for the best of your nearest-neighbors models. Do the results on the leaderboard data match your expectations?"
   ]
  },
  {
   "cell_type": "code",
   "execution_count": null,
   "metadata": {
    "collapsed": true
   },
   "outputs": [],
   "source": []
  }
 ],
 "metadata": {
  "anaconda-cloud": {},
  "kernelspec": {
   "display_name": "Python [Root]",
   "language": "python",
   "name": "Python [Root]"
  },
  "language_info": {
   "codemirror_mode": {
    "name": "ipython",
    "version": 3
   },
   "file_extension": ".py",
   "mimetype": "text/x-python",
   "name": "python",
   "nbconvert_exporter": "python",
   "pygments_lexer": "ipython3",
   "version": "3.5.2"
  }
 },
 "nbformat": 4,
 "nbformat_minor": 0
}
