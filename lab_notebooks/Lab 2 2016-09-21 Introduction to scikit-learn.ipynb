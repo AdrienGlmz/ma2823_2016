{
 "cells": [
  {
   "cell_type": "markdown",
   "metadata": {},
   "source": [
    "# 2016-09-21: Introduction to scikit-learn\n",
    "This tutorial is based on resources from http://scikit-learn.org and the scikit-learn tutorial at Scipy 2013 by Gael Varoquaux, Jake VanderPlas and Olivier Grisel (https://www.youtube.com/watch?v=r4bRUvvlaBw and https://github.com/jakevdp/sklearn_scipy2013).\n",
    "\n",
    "Machine learning is about creating models from data: for that reason, we’ll start by discussing how data can be represented in order to be understood by the computer. Along with this, we’ll build on our matplotlib examples from the previous lab and show some examples of how to visualize data.\n",
    "\n",
    "Most machine learning algorithms implemented in scikit-learn expect data to be stored in a two-dimensional array, of shape `(n_samples, n_features)`. The arrays can be either NumPy arrays, or in some cases `scipy.sparse` matrices. The number of features must be fixed in advance. However it can be very high dimensional (e.g. millions of features) with most of them being zeros for a given sample. This is a case where `scipy.sparse` matrices can be useful, in that they are much more memory-efficient than NumPy arrays."
   ]
  },
  {
   "cell_type": "markdown",
   "metadata": {},
   "source": [
    "## 1. The endometrium vs uterus cancer data\n",
    "\n",
    "For this lab and many of the coming ones, we will work with gene expression data measured on endometrium and ovary tumors. The data originally comes from http://gemler.fzv.uni-mb.si/index.php but has been downsized so that it is easier to work with in our labs.\n",
    "\n",
    "The data we will work with contains the expression of 3,000 genes, measured for 61 endometrium tumors and 123 uterus tumors."
   ]
  },
  {
   "cell_type": "markdown",
   "metadata": {},
   "source": [
    "### Loading the data\n",
    "The data is stored in a CSV file, `small_Endometrium_Uterus.csv`. Many utilities can be used to read CSV files, including the `csv` module and the `pandas` module (that is meant for data mining). We will focus on using numpy directly.\n",
    "\n",
    "A quick look at the file shows us that\n",
    "* its first line is a header\n",
    "* each of its lines is a tumor sample. \n",
    "* the first column of each line is the tumor sample's ID\n",
    "* the last column of each line is the type of tissue (Endometrium or Uterus)\n",
    "* all columns in between give the expression of one gene."
   ]
  },
  {
   "cell_type": "code",
   "execution_count": 1,
   "metadata": {
    "collapsed": true
   },
   "outputs": [],
   "source": [
    "import numpy as np"
   ]
  },
  {
   "cell_type": "code",
   "execution_count": 2,
   "metadata": {
    "collapsed": true
   },
   "outputs": [],
   "source": [
    "# Load the gene expression data\n",
    "X = np.loadtxt('data/small_Endometrium_Uterus.csv',  delimiter=',', \n",
    "               skiprows=1, usecols=range(1, 3001))"
   ]
  },
  {
   "cell_type": "code",
   "execution_count": 83,
   "metadata": {
    "collapsed": false
   },
   "outputs": [
    {
     "ename": "ValueError",
     "evalue": "could not convert string to float: b'Endometrium'",
     "output_type": "error",
     "traceback": [
      "\u001b[0;31m---------------------------------------------------------------------------\u001b[0m",
      "\u001b[0;31mValueError\u001b[0m                                Traceback (most recent call last)",
      "\u001b[0;32m<ipython-input-83-67cd686cc5c1>\u001b[0m in \u001b[0;36m<module>\u001b[0;34m()\u001b[0m\n\u001b[1;32m      1\u001b[0m Z = np.loadtxt('data/small_Endometrium_Uterus.csv',  delimiter=',', \n\u001b[0;32m----> 2\u001b[0;31m                skiprows=1, usecols=range(1, 3002))\n\u001b[0m\u001b[1;32m      3\u001b[0m \u001b[0mZ\u001b[0m\u001b[0;34m[\u001b[0m\u001b[0;34m:\u001b[0m\u001b[0;34m,\u001b[0m\u001b[0;36m2999\u001b[0m\u001b[0;34m]\u001b[0m\u001b[0;34m\u001b[0m\u001b[0m\n",
      "\u001b[0;32m/Users/adrien/anaconda/lib/python3.5/site-packages/numpy/lib/npyio.py\u001b[0m in \u001b[0;36mloadtxt\u001b[0;34m(fname, dtype, comments, delimiter, converters, skiprows, usecols, unpack, ndmin)\u001b[0m\n\u001b[1;32m    928\u001b[0m \u001b[0;34m\u001b[0m\u001b[0m\n\u001b[1;32m    929\u001b[0m             \u001b[0;31m# Convert each value according to its column and store\u001b[0m\u001b[0;34m\u001b[0m\u001b[0;34m\u001b[0m\u001b[0m\n\u001b[0;32m--> 930\u001b[0;31m             \u001b[0mitems\u001b[0m \u001b[0;34m=\u001b[0m \u001b[0;34m[\u001b[0m\u001b[0mconv\u001b[0m\u001b[0;34m(\u001b[0m\u001b[0mval\u001b[0m\u001b[0;34m)\u001b[0m \u001b[0;32mfor\u001b[0m \u001b[0;34m(\u001b[0m\u001b[0mconv\u001b[0m\u001b[0;34m,\u001b[0m \u001b[0mval\u001b[0m\u001b[0;34m)\u001b[0m \u001b[0;32min\u001b[0m \u001b[0mzip\u001b[0m\u001b[0;34m(\u001b[0m\u001b[0mconverters\u001b[0m\u001b[0;34m,\u001b[0m \u001b[0mvals\u001b[0m\u001b[0;34m)\u001b[0m\u001b[0;34m]\u001b[0m\u001b[0;34m\u001b[0m\u001b[0m\n\u001b[0m\u001b[1;32m    931\u001b[0m             \u001b[0;31m# Then pack it according to the dtype's nesting\u001b[0m\u001b[0;34m\u001b[0m\u001b[0;34m\u001b[0m\u001b[0m\n\u001b[1;32m    932\u001b[0m             \u001b[0mitems\u001b[0m \u001b[0;34m=\u001b[0m \u001b[0mpack_items\u001b[0m\u001b[0;34m(\u001b[0m\u001b[0mitems\u001b[0m\u001b[0;34m,\u001b[0m \u001b[0mpacking\u001b[0m\u001b[0;34m)\u001b[0m\u001b[0;34m\u001b[0m\u001b[0m\n",
      "\u001b[0;32m/Users/adrien/anaconda/lib/python3.5/site-packages/numpy/lib/npyio.py\u001b[0m in \u001b[0;36m<listcomp>\u001b[0;34m(.0)\u001b[0m\n\u001b[1;32m    928\u001b[0m \u001b[0;34m\u001b[0m\u001b[0m\n\u001b[1;32m    929\u001b[0m             \u001b[0;31m# Convert each value according to its column and store\u001b[0m\u001b[0;34m\u001b[0m\u001b[0;34m\u001b[0m\u001b[0m\n\u001b[0;32m--> 930\u001b[0;31m             \u001b[0mitems\u001b[0m \u001b[0;34m=\u001b[0m \u001b[0;34m[\u001b[0m\u001b[0mconv\u001b[0m\u001b[0;34m(\u001b[0m\u001b[0mval\u001b[0m\u001b[0;34m)\u001b[0m \u001b[0;32mfor\u001b[0m \u001b[0;34m(\u001b[0m\u001b[0mconv\u001b[0m\u001b[0;34m,\u001b[0m \u001b[0mval\u001b[0m\u001b[0;34m)\u001b[0m \u001b[0;32min\u001b[0m \u001b[0mzip\u001b[0m\u001b[0;34m(\u001b[0m\u001b[0mconverters\u001b[0m\u001b[0;34m,\u001b[0m \u001b[0mvals\u001b[0m\u001b[0;34m)\u001b[0m\u001b[0;34m]\u001b[0m\u001b[0;34m\u001b[0m\u001b[0m\n\u001b[0m\u001b[1;32m    931\u001b[0m             \u001b[0;31m# Then pack it according to the dtype's nesting\u001b[0m\u001b[0;34m\u001b[0m\u001b[0;34m\u001b[0m\u001b[0m\n\u001b[1;32m    932\u001b[0m             \u001b[0mitems\u001b[0m \u001b[0;34m=\u001b[0m \u001b[0mpack_items\u001b[0m\u001b[0;34m(\u001b[0m\u001b[0mitems\u001b[0m\u001b[0;34m,\u001b[0m \u001b[0mpacking\u001b[0m\u001b[0;34m)\u001b[0m\u001b[0;34m\u001b[0m\u001b[0m\n",
      "\u001b[0;32m/Users/adrien/anaconda/lib/python3.5/site-packages/numpy/lib/npyio.py\u001b[0m in \u001b[0;36mfloatconv\u001b[0;34m(x)\u001b[0m\n\u001b[1;32m    657\u001b[0m         \u001b[0;32mif\u001b[0m \u001b[0;34mb'0x'\u001b[0m \u001b[0;32min\u001b[0m \u001b[0mx\u001b[0m\u001b[0;34m:\u001b[0m\u001b[0;34m\u001b[0m\u001b[0m\n\u001b[1;32m    658\u001b[0m             \u001b[0;32mreturn\u001b[0m \u001b[0mfloat\u001b[0m\u001b[0;34m.\u001b[0m\u001b[0mfromhex\u001b[0m\u001b[0;34m(\u001b[0m\u001b[0masstr\u001b[0m\u001b[0;34m(\u001b[0m\u001b[0mx\u001b[0m\u001b[0;34m)\u001b[0m\u001b[0;34m)\u001b[0m\u001b[0;34m\u001b[0m\u001b[0m\n\u001b[0;32m--> 659\u001b[0;31m         \u001b[0;32mreturn\u001b[0m \u001b[0mfloat\u001b[0m\u001b[0;34m(\u001b[0m\u001b[0mx\u001b[0m\u001b[0;34m)\u001b[0m\u001b[0;34m\u001b[0m\u001b[0m\n\u001b[0m\u001b[1;32m    660\u001b[0m \u001b[0;34m\u001b[0m\u001b[0m\n\u001b[1;32m    661\u001b[0m     \u001b[0mtyp\u001b[0m \u001b[0;34m=\u001b[0m \u001b[0mdtype\u001b[0m\u001b[0;34m.\u001b[0m\u001b[0mtype\u001b[0m\u001b[0;34m\u001b[0m\u001b[0m\n",
      "\u001b[0;31mValueError\u001b[0m: could not convert string to float: b'Endometrium'"
     ]
    }
   ],
   "source": [
    "Z = np.loadtxt('data/small_Endometrium_Uterus.csv',  delimiter=',', \n",
    "               skiprows=1, usecols=range(1, 3002))\n",
    "Z[:,2999]"
   ]
  },
  {
   "cell_type": "code",
   "execution_count": 9,
   "metadata": {
    "collapsed": false
   },
   "outputs": [
    {
     "name": "stdout",
     "output_type": "stream",
     "text": [
      "[0 0 0 0 0 0 0 1 1 1 1 1 1 1 1 1 1 1 1 0 0 0 0 0 0 1 1 1 1 1 1 1 1 1 1 1 1\n",
      " 1 0 0 0 0 0 0 1 1 1 1 1 1 1 1 1 1 1 1 0 0 0 0 0 0 1 1 1 1 1 1 1 1 1 1 1 1\n",
      " 1 0 0 0 0 0 0 1 1 1 1 1 1 1 1 1 1 1 1 1 0 0 0 0 0 0 1 1 1 1 1 1 1 1 1 1 1\n",
      " 1 0 0 0 0 0 0 1 1 1 1 1 1 1 1 1 1 1 1 0 0 0 0 0 0 1 1 1 1 1 1 1 1 1 1 1 1\n",
      " 0 0 0 0 0 0 1 1 1 1 1 1 1 1 1 1 1 0 0 0 0 0 0 1 1 1 1 1 1 1 1 1 1 1 1]\n"
     ]
    }
   ],
   "source": [
    "# Load the labels\n",
    "y = np.loadtxt('data/small_Endometrium_Uterus.csv', delimiter=',', \n",
    "               skiprows=1, usecols=[3001], dtype='bytes').astype('str')\n",
    "\n",
    "# Convert 'Endometrium' to 0 and 'Uterus' to 1\n",
    "y = np.where(y=='Endometrium', 0, 1)\n",
    "print(y)"
   ]
  },
  {
   "cell_type": "code",
   "execution_count": 6,
   "metadata": {
    "collapsed": false
   },
   "outputs": [
    {
     "name": "stdout",
     "output_type": "stream",
     "text": [
      "[1 1 1 1 1 1 1 1 1 1 1 1 1 1 1 1 1 1 1 1 1 1 1 1 1 1 1 1 1 1 1 1 1 1 1 1 1\n",
      " 1 1 1 1 1 1 1 1 1 1 1 1 1 1 1 1 1 1 1 1 1 1 1 1 1 1 1 1 1 1 1 1 1 1 1 1 1\n",
      " 1 1 1 1 1 1 1 1 1 1 1 1 1 1 1 1 1 1 1 1 1 1 1 1 1 1 1 1 1 1 1 1 1 1 1 1 1\n",
      " 1 1 1 1 1 1 1 1 1 1 1 1 1 1 1 1 1 1 1 1 1 1 1 1 1 1 1 1 1 1 1 1 1 1 1 1 1\n",
      " 1 1 1 1 1 1 1 1 1 1 1 1 1 1 1 1 1 1 1 1 1 1 1 1 1 1 1 1 1 1 1 1 1 1 1]\n"
     ]
    }
   ],
   "source": [
    "# We could have done the previous operation in one step, using a converter\n",
    "y = np.loadtxt('data/small_Endometrium_Uterus.csv', delimiter=',', skiprows=1, usecols=[3001], \n",
    "               converters={3001: lambda s: 0 if s=='Endometrium' else 1}, dtype='int')\n",
    "print(y)"
   ]
  },
  {
   "cell_type": "markdown",
   "metadata": {},
   "source": [
    "### Visualizing the data"
   ]
  },
  {
   "cell_type": "code",
   "execution_count": 7,
   "metadata": {
    "collapsed": false
   },
   "outputs": [
    {
     "name": "stdout",
     "output_type": "stream",
     "text": [
      "Populating the interactive namespace from numpy and matplotlib\n"
     ]
    }
   ],
   "source": [
    "# Load pylab\n",
    "%pylab inline"
   ]
  },
  {
   "cell_type": "code",
   "execution_count": 19,
   "metadata": {
    "collapsed": false
   },
   "outputs": [
    {
     "data": {
      "text/plain": [
       "<matplotlib.text.Text at 0x10e37f6d8>"
      ]
     },
     "execution_count": 19,
     "metadata": {},
     "output_type": "execute_result"
    },
    {
     "data": {
      "image/png": "[encoded data removed]",
      "text/plain": [
       "<matplotlib.figure.Figure at 0x10e376cc0>"
      ]
     },
     "metadata": {},
     "output_type": "display_data"
    }
   ],
   "source": [
    "# Visualize the data across 2 of its axes\n",
    "idx_1 = 1 # first axis (or gene)\n",
    "idx_2 = 18 # second axis (or gene)\n",
    "plt.scatter(X[y==0, idx_1], X[y==0, idx_2], # y==0 gives the indices of the columns for which y is equal to 0\n",
    "            color='blue', label='Endometrium')\n",
    "plt.scatter(X[y==1, idx_1], X[y==1, idx_2], color='orange', label='Uterus')\n",
    "plt.legend(scatterpoints=1)\n",
    "plt.xlim(0,200)\n",
    "plt.ylim(0,25000)\n",
    "plt.xlabel('Gene %d' % idx_1, fontsize=14)\n",
    "plt.ylabel('Gene %d' % idx_2, fontsize=14)"
   ]
  },
  {
   "cell_type": "markdown",
   "metadata": {},
   "source": [
    "Play with the values of `idx_1` and `idx_2`. What do you notice about the range of the values taken by the different genes?"
   ]
  },
  {
   "cell_type": "markdown",
   "metadata": {},
   "source": [
    "## 2. Gaussian Naive Bayes\n",
    "\n",
    "Documentation: http://scikit-learn.org/stable/modules/generated/sklearn.naive_bayes.GaussianNB.html \n",
    "\n",
    "Our goal here is to try to classify points between endometrium and uterus tumors."
   ]
  },
  {
   "cell_type": "code",
   "execution_count": 60,
   "metadata": {
    "collapsed": true
   },
   "outputs": [],
   "source": [
    "# import Gaussian Naive Bayes\n",
    "from sklearn.naive_bayes import GaussianNB"
   ]
  },
  {
   "cell_type": "code",
   "execution_count": 61,
   "metadata": {
    "collapsed": true
   },
   "outputs": [],
   "source": [
    "# create a Gaussian Naive Bayes classifier i.e. an instance of GaussianNB\n",
    "gnb = GaussianNB()"
   ]
  },
  {
   "cell_type": "code",
   "execution_count": 68,
   "metadata": {
    "collapsed": false,
    "scrolled": false
   },
   "outputs": [
    {
     "data": {
      "text/plain": [
       "array([ 0.33333333,  0.66666667])"
      ]
     },
     "execution_count": 68,
     "metadata": {},
     "output_type": "execute_result"
    }
   ],
   "source": [
    "# fit the classifier to the data\n",
    "gnb.fit(X, y)\n",
    "gnb.class_prior_"
   ]
  },
  {
   "cell_type": "code",
   "execution_count": 53,
   "metadata": {
    "collapsed": true
   },
   "outputs": [],
   "source": [
    "# predict on the same data\n",
    "y_pred = gnb.predict(X)"
   ]
  },
  {
   "cell_type": "code",
   "execution_count": 24,
   "metadata": {
    "collapsed": false
   },
   "outputs": [
    {
     "name": "stdout",
     "output_type": "stream",
     "text": [
      "Number of mislabeled points out of a total 183 points : 21\n"
     ]
    }
   ],
   "source": [
    "# compute the number of mislabeled genes\n",
    "print(\"Number of mislabeled points out of a total %d points : %d\" % \\\n",
    "      (X.shape[0], (y != y_pred).sum()))"
   ]
  },
  {
   "cell_type": "code",
   "execution_count": 27,
   "metadata": {
    "collapsed": false
   },
   "outputs": [
    {
     "name": "stdout",
     "output_type": "stream",
     "text": [
      "Accuracy: 0.885\n"
     ]
    }
   ],
   "source": [
    "# Score the model\n",
    "from sklearn import metrics\n",
    "print(\"Accuracy: %.3f\" % metrics.accuracy_score(y, y_pred))"
   ]
  },
  {
   "cell_type": "markdown",
   "metadata": {},
   "source": [
    "### ROC Curve\n",
    "\n",
    "Building an ROC curve requires to use the probability estimates for the test data points *before* they are thresholded."
   ]
  },
  {
   "cell_type": "code",
   "execution_count": 45,
   "metadata": {
    "collapsed": false
   },
   "outputs": [
    {
     "name": "stdout",
     "output_type": "stream",
     "text": [
      "(183, 2)\n"
     ]
    },
    {
     "data": {
      "text/plain": [
       "array([[  1.00000000e+000,   2.84024282e-014],\n",
       "       [  1.00000000e+000,   8.36056083e-033],\n",
       "       [  1.00000000e+000,   2.16180037e-027],\n",
       "       [  1.00000000e+000,   9.22590124e-019],\n",
       "       [  1.00000000e+000,   3.39266390e-024],\n",
       "       [  1.00000000e+000,   6.96222735e-293],\n",
       "       [  1.00000000e+000,   0.00000000e+000],\n",
       "       [  1.00583540e-279,   1.00000000e+000],\n",
       "       [  2.04403605e-206,   1.00000000e+000],\n",
       "       [  0.00000000e+000,   1.00000000e+000],\n",
       "       [  3.17278306e-143,   1.00000000e+000],\n",
       "       [  0.00000000e+000,   1.00000000e+000],\n",
       "       [  0.00000000e+000,   1.00000000e+000],\n",
       "       [  7.27208053e-123,   1.00000000e+000],\n",
       "       [  1.84395534e-086,   1.00000000e+000],\n",
       "       [  0.00000000e+000,   1.00000000e+000],\n",
       "       [  1.57061270e-156,   1.00000000e+000],\n",
       "       [  2.43052574e-067,   1.00000000e+000],\n",
       "       [  0.00000000e+000,   1.00000000e+000],\n",
       "       [  1.00000000e+000,   0.00000000e+000],\n",
       "       [  1.00000000e+000,   6.05967513e-103],\n",
       "       [  1.00000000e+000,   2.16270358e-203],\n",
       "       [  1.00000000e+000,   5.17774978e-102],\n",
       "       [  1.00000000e+000,   1.95130116e-077],\n",
       "       [  8.54625415e-057,   1.00000000e+000],\n",
       "       [  6.30767602e-162,   1.00000000e+000],\n",
       "       [  1.96465501e-161,   1.00000000e+000],\n",
       "       [  6.26066809e-079,   1.00000000e+000],\n",
       "       [  9.54709618e-001,   4.52903823e-002],\n",
       "       [  1.00000000e+000,   1.55361297e-091],\n",
       "       [  0.00000000e+000,   1.00000000e+000],\n",
       "       [  1.54567263e-197,   1.00000000e+000],\n",
       "       [  1.00000000e+000,   7.87682870e-151],\n",
       "       [  7.06106257e-210,   1.00000000e+000],\n",
       "       [  2.45337474e-071,   1.00000000e+000],\n",
       "       [  0.00000000e+000,   1.00000000e+000],\n",
       "       [  8.65990296e-093,   1.00000000e+000],\n",
       "       [  1.97759917e-132,   1.00000000e+000],\n",
       "       [  1.00000000e+000,   4.23459483e-194],\n",
       "       [  1.00000000e+000,   0.00000000e+000],\n",
       "       [  1.00000000e+000,   3.59773765e-047],\n",
       "       [  1.00000000e+000,   1.07713652e-100],\n",
       "       [  1.00000000e+000,   1.08559178e-121],\n",
       "       [  1.00000000e+000,   0.00000000e+000],\n",
       "       [  1.00000000e+000,   3.33430031e-059],\n",
       "       [  0.00000000e+000,   1.00000000e+000],\n",
       "       [  0.00000000e+000,   1.00000000e+000],\n",
       "       [  2.33341868e-093,   1.00000000e+000],\n",
       "       [  3.39330796e-088,   1.00000000e+000],\n",
       "       [  5.24674775e-152,   1.00000000e+000],\n",
       "       [  3.16568809e-247,   1.00000000e+000],\n",
       "       [  3.71830300e-147,   1.00000000e+000],\n",
       "       [  7.79222318e-008,   9.99999922e-001],\n",
       "       [  6.86891047e-047,   1.00000000e+000],\n",
       "       [  1.82283617e-185,   1.00000000e+000],\n",
       "       [  2.52598447e-119,   1.00000000e+000],\n",
       "       [  1.00000000e+000,   0.00000000e+000],\n",
       "       [  4.45630722e-017,   1.00000000e+000],\n",
       "       [  1.00000000e+000,   0.00000000e+000],\n",
       "       [  1.00000000e+000,   1.27337391e-023],\n",
       "       [  1.00000000e+000,   1.01905756e-030],\n",
       "       [  1.00000000e+000,   5.42798017e-026],\n",
       "       [  1.61333515e-020,   1.00000000e+000],\n",
       "       [  2.27508717e-095,   1.00000000e+000],\n",
       "       [  0.00000000e+000,   1.00000000e+000],\n",
       "       [  0.00000000e+000,   1.00000000e+000],\n",
       "       [  1.17245236e-055,   1.00000000e+000],\n",
       "       [  1.65866678e-020,   1.00000000e+000],\n",
       "       [  0.00000000e+000,   1.00000000e+000],\n",
       "       [  3.43349794e-110,   1.00000000e+000],\n",
       "       [  0.00000000e+000,   1.00000000e+000],\n",
       "       [  3.89923287e-157,   1.00000000e+000],\n",
       "       [  3.21044610e-060,   1.00000000e+000],\n",
       "       [  0.00000000e+000,   1.00000000e+000],\n",
       "       [  5.90441240e-133,   1.00000000e+000],\n",
       "       [  1.00000000e+000,   2.23006271e-189],\n",
       "       [  1.00000000e+000,   1.16814874e-310],\n",
       "       [  1.00000000e+000,   7.36306995e-307],\n",
       "       [  1.00000000e+000,   7.92921004e-308],\n",
       "       [  1.00000000e+000,   1.52123222e-316],\n",
       "       [  1.00000000e+000,   0.00000000e+000],\n",
       "       [  8.36571432e-221,   1.00000000e+000],\n",
       "       [  1.79270409e-189,   1.00000000e+000],\n",
       "       [  2.49922930e-051,   1.00000000e+000],\n",
       "       [  1.02116008e-159,   1.00000000e+000],\n",
       "       [  1.39591731e-053,   1.00000000e+000],\n",
       "       [  2.26432185e-114,   1.00000000e+000],\n",
       "       [  1.00000000e+000,   1.98186000e-185],\n",
       "       [  0.00000000e+000,   1.00000000e+000],\n",
       "       [  1.00000000e+000,   5.88105968e-091],\n",
       "       [  0.00000000e+000,   1.00000000e+000],\n",
       "       [  3.96776969e-090,   1.00000000e+000],\n",
       "       [  0.00000000e+000,   1.00000000e+000],\n",
       "       [  1.02198088e-278,   1.00000000e+000],\n",
       "       [  1.00000000e+000,   5.03069243e-215],\n",
       "       [  1.00000000e+000,   2.82136898e-222],\n",
       "       [  1.00000000e+000,   0.00000000e+000],\n",
       "       [  1.00000000e+000,   1.94154287e-073],\n",
       "       [  1.00000000e+000,   4.91844778e-142],\n",
       "       [  1.00000000e+000,   3.80412727e-076],\n",
       "       [  0.00000000e+000,   1.00000000e+000],\n",
       "       [  2.03619771e-061,   1.00000000e+000],\n",
       "       [  2.89906651e-102,   1.00000000e+000],\n",
       "       [  0.00000000e+000,   1.00000000e+000],\n",
       "       [  2.01439242e-264,   1.00000000e+000],\n",
       "       [  1.00000000e+000,   8.25638652e-057],\n",
       "       [  1.14515480e-069,   1.00000000e+000],\n",
       "       [  4.34899808e-153,   1.00000000e+000],\n",
       "       [  0.00000000e+000,   1.00000000e+000],\n",
       "       [  5.71842173e-114,   1.00000000e+000],\n",
       "       [  1.44253119e-269,   1.00000000e+000],\n",
       "       [  8.43157187e-141,   1.00000000e+000],\n",
       "       [  1.00000000e+000,   5.03068763e-306],\n",
       "       [  1.00000000e+000,   2.53120525e-019],\n",
       "       [  4.69763817e-022,   1.00000000e+000],\n",
       "       [  1.00000000e+000,   6.48262846e-195],\n",
       "       [  4.94144313e-132,   1.00000000e+000],\n",
       "       [  1.00000000e+000,   4.26677408e-081],\n",
       "       [  1.89141992e-112,   1.00000000e+000],\n",
       "       [  1.48568463e-163,   1.00000000e+000],\n",
       "       [  0.00000000e+000,   1.00000000e+000],\n",
       "       [  3.30455347e-031,   1.00000000e+000],\n",
       "       [  1.15121930e-089,   1.00000000e+000],\n",
       "       [  2.74246042e-138,   1.00000000e+000],\n",
       "       [  6.40031393e-179,   1.00000000e+000],\n",
       "       [  1.00000000e+000,   7.60997257e-032],\n",
       "       [  6.24666594e-069,   1.00000000e+000],\n",
       "       [  1.00000000e+000,   2.42210606e-036],\n",
       "       [  4.10303061e-112,   1.00000000e+000],\n",
       "       [  2.14141411e-102,   1.00000000e+000],\n",
       "       [  1.00000000e+000,   0.00000000e+000],\n",
       "       [  1.00000000e+000,   2.55825832e-051],\n",
       "       [  1.00000000e+000,   3.08254550e-164],\n",
       "       [  1.00000000e+000,   4.20660744e-180],\n",
       "       [  1.00000000e+000,   0.00000000e+000],\n",
       "       [  1.17563828e-040,   1.00000000e+000],\n",
       "       [  3.78277988e-218,   1.00000000e+000],\n",
       "       [  2.91481242e-106,   1.00000000e+000],\n",
       "       [  4.04627632e-309,   1.00000000e+000],\n",
       "       [  1.00000000e+000,   1.93072763e-083],\n",
       "       [  7.30184941e-101,   1.00000000e+000],\n",
       "       [  0.00000000e+000,   1.00000000e+000],\n",
       "       [  2.48975958e-064,   1.00000000e+000],\n",
       "       [  1.00000000e+000,   1.38202815e-164],\n",
       "       [  1.00000000e+000,   4.79010464e-035],\n",
       "       [  4.60875039e-045,   1.00000000e+000],\n",
       "       [  0.00000000e+000,   1.00000000e+000],\n",
       "       [  2.74679737e-285,   1.00000000e+000],\n",
       "       [  1.00000000e+000,   3.64331383e-149],\n",
       "       [  1.00000000e+000,   0.00000000e+000],\n",
       "       [  1.00000000e+000,   4.08318252e-096],\n",
       "       [  1.00000000e+000,   7.18352981e-075],\n",
       "       [  1.00000000e+000,   1.74417098e-079],\n",
       "       [  1.00000000e+000,   1.99489773e-099],\n",
       "       [  1.18165699e-124,   1.00000000e+000],\n",
       "       [  2.19774331e-186,   1.00000000e+000],\n",
       "       [  2.08276237e-014,   1.00000000e+000],\n",
       "       [  1.00000000e+000,   2.63298497e-058],\n",
       "       [  0.00000000e+000,   1.00000000e+000],\n",
       "       [  1.50065660e-054,   1.00000000e+000],\n",
       "       [  0.00000000e+000,   1.00000000e+000],\n",
       "       [  1.98721288e-030,   1.00000000e+000],\n",
       "       [  6.71679480e-305,   1.00000000e+000],\n",
       "       [  2.73747715e-011,   1.00000000e+000],\n",
       "       [  1.00000000e+000,   1.74208176e-085],\n",
       "       [  3.26682602e-095,   1.00000000e+000],\n",
       "       [  1.00000000e+000,   1.59670982e-303],\n",
       "       [  1.00000000e+000,   6.89196883e-250],\n",
       "       [  1.00000000e+000,   1.50785975e-278],\n",
       "       [  1.76819296e-057,   1.00000000e+000],\n",
       "       [  1.00000000e+000,   2.46717152e-078],\n",
       "       [  1.30259548e-208,   1.00000000e+000],\n",
       "       [  6.79465706e-108,   1.00000000e+000],\n",
       "       [  1.11759776e-095,   1.00000000e+000],\n",
       "       [  0.00000000e+000,   1.00000000e+000],\n",
       "       [  2.88076957e-107,   1.00000000e+000],\n",
       "       [  0.00000000e+000,   1.00000000e+000],\n",
       "       [  6.38959565e-137,   1.00000000e+000],\n",
       "       [  0.00000000e+000,   1.00000000e+000],\n",
       "       [  2.67848883e-064,   1.00000000e+000],\n",
       "       [  9.34691255e-076,   1.00000000e+000],\n",
       "       [  8.13787783e-245,   1.00000000e+000],\n",
       "       [  1.05033041e-153,   1.00000000e+000]])"
      ]
     },
     "execution_count": 45,
     "metadata": {},
     "output_type": "execute_result"
    }
   ],
   "source": [
    "# Get probability estimates\n",
    "y_prob = gnb.predict_proba(X)\n",
    "print(y_prob.shape)\n",
    "y_prob"
   ]
  },
  {
   "cell_type": "markdown",
   "metadata": {},
   "source": [
    "**Question:** `y_prob` returns two values for each data point because it returns one probability estimate per class for each data point. The order in which the classes appear are given by `gnb.classes_`. How do you get the 1-dimensional array that only contains the estimated probability for each point to belong to the positive class?  "
   ]
  },
  {
   "cell_type": "code",
   "execution_count": 46,
   "metadata": {
    "collapsed": false
   },
   "outputs": [
    {
     "data": {
      "text/plain": [
       "array([  2.84024282e-014,   8.36056083e-033,   2.16180037e-027,\n",
       "         9.22590124e-019,   3.39266390e-024,   6.96222735e-293,\n",
       "         0.00000000e+000,   1.00000000e+000,   1.00000000e+000,\n",
       "         1.00000000e+000,   1.00000000e+000,   1.00000000e+000,\n",
       "         1.00000000e+000,   1.00000000e+000,   1.00000000e+000,\n",
       "         1.00000000e+000,   1.00000000e+000,   1.00000000e+000,\n",
       "         1.00000000e+000,   0.00000000e+000,   6.05967513e-103,\n",
       "         2.16270358e-203,   5.17774978e-102,   1.95130116e-077,\n",
       "         1.00000000e+000,   1.00000000e+000,   1.00000000e+000,\n",
       "         1.00000000e+000,   4.52903823e-002,   1.55361297e-091,\n",
       "         1.00000000e+000,   1.00000000e+000,   7.87682870e-151,\n",
       "         1.00000000e+000,   1.00000000e+000,   1.00000000e+000,\n",
       "         1.00000000e+000,   1.00000000e+000,   4.23459483e-194,\n",
       "         0.00000000e+000,   3.59773765e-047,   1.07713652e-100,\n",
       "         1.08559178e-121,   0.00000000e+000,   3.33430031e-059,\n",
       "         1.00000000e+000,   1.00000000e+000,   1.00000000e+000,\n",
       "         1.00000000e+000,   1.00000000e+000,   1.00000000e+000,\n",
       "         1.00000000e+000,   9.99999922e-001,   1.00000000e+000,\n",
       "         1.00000000e+000,   1.00000000e+000,   0.00000000e+000,\n",
       "         1.00000000e+000,   0.00000000e+000,   1.27337391e-023,\n",
       "         1.01905756e-030,   5.42798017e-026,   1.00000000e+000,\n",
       "         1.00000000e+000,   1.00000000e+000,   1.00000000e+000,\n",
       "         1.00000000e+000,   1.00000000e+000,   1.00000000e+000,\n",
       "         1.00000000e+000,   1.00000000e+000,   1.00000000e+000,\n",
       "         1.00000000e+000,   1.00000000e+000,   1.00000000e+000,\n",
       "         2.23006271e-189,   1.16814874e-310,   7.36306995e-307,\n",
       "         7.92921004e-308,   1.52123222e-316,   0.00000000e+000,\n",
       "         1.00000000e+000,   1.00000000e+000,   1.00000000e+000,\n",
       "         1.00000000e+000,   1.00000000e+000,   1.00000000e+000,\n",
       "         1.98186000e-185,   1.00000000e+000,   5.88105968e-091,\n",
       "         1.00000000e+000,   1.00000000e+000,   1.00000000e+000,\n",
       "         1.00000000e+000,   5.03069243e-215,   2.82136898e-222,\n",
       "         0.00000000e+000,   1.94154287e-073,   4.91844778e-142,\n",
       "         3.80412727e-076,   1.00000000e+000,   1.00000000e+000,\n",
       "         1.00000000e+000,   1.00000000e+000,   1.00000000e+000,\n",
       "         8.25638652e-057,   1.00000000e+000,   1.00000000e+000,\n",
       "         1.00000000e+000,   1.00000000e+000,   1.00000000e+000,\n",
       "         1.00000000e+000,   5.03068763e-306,   2.53120525e-019,\n",
       "         1.00000000e+000,   6.48262846e-195,   1.00000000e+000,\n",
       "         4.26677408e-081,   1.00000000e+000,   1.00000000e+000,\n",
       "         1.00000000e+000,   1.00000000e+000,   1.00000000e+000,\n",
       "         1.00000000e+000,   1.00000000e+000,   7.60997257e-032,\n",
       "         1.00000000e+000,   2.42210606e-036,   1.00000000e+000,\n",
       "         1.00000000e+000,   0.00000000e+000,   2.55825832e-051,\n",
       "         3.08254550e-164,   4.20660744e-180,   0.00000000e+000,\n",
       "         1.00000000e+000,   1.00000000e+000,   1.00000000e+000,\n",
       "         1.00000000e+000,   1.93072763e-083,   1.00000000e+000,\n",
       "         1.00000000e+000,   1.00000000e+000,   1.38202815e-164,\n",
       "         4.79010464e-035,   1.00000000e+000,   1.00000000e+000,\n",
       "         1.00000000e+000,   3.64331383e-149,   0.00000000e+000,\n",
       "         4.08318252e-096,   7.18352981e-075,   1.74417098e-079,\n",
       "         1.99489773e-099,   1.00000000e+000,   1.00000000e+000,\n",
       "         1.00000000e+000,   2.63298497e-058,   1.00000000e+000,\n",
       "         1.00000000e+000,   1.00000000e+000,   1.00000000e+000,\n",
       "         1.00000000e+000,   1.00000000e+000,   1.74208176e-085,\n",
       "         1.00000000e+000,   1.59670982e-303,   6.89196883e-250,\n",
       "         1.50785975e-278,   1.00000000e+000,   2.46717152e-078,\n",
       "         1.00000000e+000,   1.00000000e+000,   1.00000000e+000,\n",
       "         1.00000000e+000,   1.00000000e+000,   1.00000000e+000,\n",
       "         1.00000000e+000,   1.00000000e+000,   1.00000000e+000,\n",
       "         1.00000000e+000,   1.00000000e+000,   1.00000000e+000])"
      ]
     },
     "execution_count": 46,
     "metadata": {},
     "output_type": "execute_result"
    }
   ],
   "source": [
    "y_prob[:,1]"
   ]
  },
  {
   "cell_type": "code",
   "execution_count": 47,
   "metadata": {
    "collapsed": false
   },
   "outputs": [
    {
     "data": {
      "text/plain": [
       "<matplotlib.legend.Legend at 0x110bb9710>"
      ]
     },
     "execution_count": 47,
     "metadata": {},
     "output_type": "execute_result"
    },
    {
     "data": {
      "image/png": "[encoded data removed]",
      "text/plain": [
       "<matplotlib.figure.Figure at 0x110b15f98>"
      ]
     },
     "metadata": {},
     "output_type": "display_data"
    }
   ],
   "source": [
    "# ROC curve\n",
    "fpr, tpr, thresholds = metrics.roc_curve(y, y_prob[:, 1], pos_label=1)\n",
    "\n",
    "# Area under the ROC curve\n",
    "auc = metrics.auc(fpr, tpr)\n",
    "\n",
    "# Plot the ROC curve\n",
    "plt.plot(fpr, tpr, '-', color='orange', label='AUC = %0.3f' % auc)\n",
    "\n",
    "plt.xlabel('False Positive Rate', fontsize=16)\n",
    "plt.ylabel('True Positive Rate', fontsize=16)\n",
    "plt.title('ROC curve: Gaussian Naive Bayes', fontsize=16)\n",
    "plt.legend(loc=\"lower right\")"
   ]
  },
  {
   "cell_type": "markdown",
   "metadata": {},
   "source": [
    "**Question:** What are the parameters of the model we have trained? How many of them are they? How can you access them?"
   ]
  },
  {
   "cell_type": "code",
   "execution_count": 70,
   "metadata": {
    "collapsed": false
   },
   "outputs": [
    {
     "data": {
      "text/plain": [
       "array([[   26.61803279,  9199.51803279,    44.3147541 , ...,\n",
       "          121.8295082 ,   121.94590164,    36.21639344],\n",
       "       [   31.42131148,  9042.91803279,    57.90327869, ...,\n",
       "          151.3704918 ,   134.03278689,    35.65      ]])"
      ]
     },
     "execution_count": 70,
     "metadata": {},
     "output_type": "execute_result"
    }
   ],
   "source": [
    "gnb.theta_"
   ]
  },
  {
   "cell_type": "code",
   "execution_count": 72,
   "metadata": {
    "collapsed": false
   },
   "outputs": [
    {
     "data": {
      "text/plain": [
       "array([[  6.11284988e+02,   2.10112675e+07,   2.54271395e+03, ...,\n",
       "          9.53875346e+03,   2.71018529e+04,   1.32044226e+03],\n",
       "       [  1.30276519e+03,   2.19631790e+07,   1.61332248e+04, ...,\n",
       "          1.15641399e+04,   4.80117057e+04,   1.34616912e+03]])"
      ]
     },
     "execution_count": 72,
     "metadata": {},
     "output_type": "execute_result"
    }
   ],
   "source": [
    "gnb.sigma_"
   ]
  },
  {
   "cell_type": "markdown",
   "metadata": {},
   "source": []
  },
  {
   "cell_type": "markdown",
   "metadata": {},
   "source": [
    "**Question:** What is it problematic to have evaluated our classifier on the training data? "
   ]
  },
  {
   "cell_type": "markdown",
   "metadata": {},
   "source": [
    "Même échantillon de test et d'entrainement. On ne sait pas comment va se comporter l'algorithme sur des données nouvelles..."
   ]
  },
  {
   "cell_type": "markdown",
   "metadata": {},
   "source": [
    "## 3. Cross-validation"
   ]
  },
  {
   "cell_type": "code",
   "execution_count": 73,
   "metadata": {
    "collapsed": false
   },
   "outputs": [],
   "source": [
    "# Set up a stratified 10-fold cross-validation\n",
    "from sklearn import cross_validation\n",
    "folds = cross_validation.StratifiedKFold(X, 10, shuffle=True)"
   ]
  },
  {
   "cell_type": "code",
   "execution_count": 86,
   "metadata": {
    "collapsed": false
   },
   "outputs": [
    {
     "name": "stdout",
     "output_type": "stream",
     "text": [
      "[  2   3   4   5   6   8   9  10  11  12  13  14  15  16  17  19  20  21\n",
      "  22  23  24  25  26  27  28  29  30  31  33  34  35  36  37  38  39  40\n",
      "  41  42  43  44  45  46  47  48  50  51  52  53  54  55  56  58  59  60\n",
      "  61  62  64  66  67  68  69  70  71  72  73  74  75  77  78  79  81  82\n",
      "  83  84  86  87  88  89  90  91  92  93  94  95  97  98  99 101 103 104\n",
      " 105 106 108 109 111 112 113 114 115 116 117 118 119 120 121 122 123 124\n",
      " 125 126 127 128 129 130 131 132 133 134 135 136 137 138 139 140 141 142\n",
      " 143 144 145 146 147 149 150 151 152 153 154 155 156 157 158 160 162 163\n",
      " 164 165 166 167 168 169 170 171 172 173 174 175 176 177 178 179 180 181\n",
      " 182]\n",
      "Fold 0\n",
      "\t 163 training points\n",
      "\t 20 test points\n",
      "[  0   1   2   3   4   5   6   7   8   9  10  11  12  13  14  15  16  17\n",
      "  18  19  20  21  22  23  24  25  26  27  28  29  30  32  33  34  35  36\n",
      "  37  40  41  43  44  45  46  49  50  51  52  54  55  56  57  58  59  61\n",
      "  62  63  65  66  68  72  73  74  75  76  77  78  79  80  81  82  83  84\n",
      "  85  86  87  88  89  90  91  94  95  96  97  98  99 100 101 102 103 104\n",
      " 105 106 107 108 109 110 111 112 113 114 115 116 117 118 119 120 121 122\n",
      " 123 124 125 126 127 128 129 130 131 132 133 134 136 137 138 139 140 141\n",
      " 142 143 144 145 146 147 148 149 150 151 152 153 154 155 156 157 158 159\n",
      " 160 161 162 163 164 165 166 168 169 170 171 172 173 175 177 178 179 180\n",
      " 181 182]\n",
      "Fold 1\n",
      "\t 164 training points\n",
      "\t 19 test points\n",
      "[  0   1   2   3   4   6   7   8   9  10  11  13  14  15  16  17  18  19\n",
      "  20  21  23  24  25  26  27  28  29  30  31  32  33  34  35  36  37  38\n",
      "  39  40  42  43  44  45  46  47  48  49  52  53  54  55  56  57  58  59\n",
      "  60  61  63  64  65  66  67  68  69  70  71  72  73  74  75  76  77  78\n",
      "  80  81  82  84  85  86  87  88  89  90  91  92  93  94  95  96  97  98\n",
      "  99 100 101 102 103 104 105 106 107 109 110 111 112 113 114 116 117 118\n",
      " 119 120 121 122 123 124 125 126 127 128 129 130 131 132 133 134 135 136\n",
      " 138 139 140 141 142 143 144 146 147 148 149 150 151 152 153 154 156 157\n",
      " 158 159 160 161 162 164 165 166 167 169 170 171 172 174 175 176 177 178\n",
      " 179 180 181]\n",
      "Fold 2\n",
      "\t 165 training points\n",
      "\t 18 test points\n",
      "[  0   1   2   3   4   5   7   8   9  10  11  12  13  14  15  16  17  18\n",
      "  19  20  21  22  23  25  26  27  29  30  31  32  33  34  36  37  38  39\n",
      "  40  41  42  43  44  45  46  47  48  49  50  51  52  53  54  55  56  57\n",
      "  58  59  60  61  62  63  64  65  66  67  68  69  70  71  72  73  74  75\n",
      "  76  77  78  79  80  81  83  85  86  87  90  91  92  93  95  96  97  98\n",
      "  99 100 102 103 104 105 107 108 109 110 111 112 113 115 116 117 118 119\n",
      " 120 121 122 124 125 126 127 128 130 131 132 133 134 135 137 138 139 140\n",
      " 141 143 144 145 146 147 148 149 150 153 154 155 156 157 158 159 160 161\n",
      " 162 163 164 165 166 167 168 169 170 171 172 173 174 175 176 177 178 179\n",
      " 180 181 182]\n",
      "Fold 3\n",
      "\t 165 training points\n",
      "\t 18 test points\n",
      "[  0   1   2   3   4   5   6   7   8   9  11  12  13  14  15  16  17  18\n",
      "  19  20  22  23  24  25  26  27  28  29  31  32  33  34  35  36  37  38\n",
      "  39  40  41  42  43  44  45  46  47  48  49  50  51  52  53  54  55  56\n",
      "  57  59  60  61  62  63  64  65  66  67  68  69  70  71  72  73  74  75\n",
      "  76  78  79  80  81  82  83  84  85  86  87  88  89  90  91  92  93  94\n",
      "  95  96  97  98 100 101 102 103 104 105 106 107 108 110 111 112 113 114\n",
      " 115 116 117 119 120 121 123 124 125 126 127 128 129 130 131 132 133 134\n",
      " 135 136 137 140 141 142 143 144 145 146 147 148 149 151 152 153 154 155\n",
      " 156 157 159 161 162 163 164 165 166 167 168 169 172 173 174 175 176 178\n",
      " 179 180 182]\n",
      "Fold 4\n",
      "\t 165 training points\n",
      "\t 18 test points\n",
      "[  0   1   2   3   4   5   6   7   8   9  10  11  12  13  16  17  18  19\n",
      "  20  21  22  23  24  26  27  28  29  30  31  32  33  34  35  36  37  38\n",
      "  39  41  42  43  44  45  47  48  49  50  51  52  53  54  55  56  57  58\n",
      "  60  61  62  63  64  65  67  69  70  71  72  73  74  76  77  78  79  80\n",
      "  81  82  83  84  85  86  87  88  89  90  91  92  93  94  95  96  97  98\n",
      "  99 100 101 102 104 106 107 108 109 110 111 112 113 114 115 116 117 118\n",
      " 119 120 121 122 123 124 125 126 128 129 130 131 135 136 137 138 139 141\n",
      " 142 143 144 145 146 147 148 149 150 151 152 153 155 157 158 159 160 161\n",
      " 162 163 164 165 166 167 168 169 170 171 172 173 174 175 176 177 178 179\n",
      " 180 181 182]\n",
      "Fold 5\n",
      "\t 165 training points\n",
      "\t 18 test points\n",
      "[  0   1   2   3   4   5   6   7   9  10  11  12  13  14  15  16  17  18\n",
      "  19  21  22  23  24  25  26  27  28  29  30  31  32  33  34  35  36  37\n",
      "  38  39  40  41  42  44  45  46  47  48  49  50  51  52  53  54  56  57\n",
      "  58  59  60  61  62  63  64  65  66  67  68  69  70  71  72  73  75  76\n",
      "  77  79  80  81  82  83  84  85  86  87  88  89  91  92  93  94  95  96\n",
      "  98  99 100 101 102 103 104 105 106 107 108 109 110 111 112 113 114 115\n",
      " 116 118 121 122 123 124 127 128 129 130 131 132 133 134 135 136 137 138\n",
      " 139 140 141 142 143 145 146 148 149 150 151 152 154 155 156 158 159 160\n",
      " 161 162 163 164 165 166 167 168 169 170 171 172 173 174 175 176 177 178\n",
      " 179 181 182]\n",
      "Fold 6\n",
      "\t 165 training points\n",
      "\t 18 test points\n",
      "[  0   1   3   4   5   6   7   8   9  10  11  12  14  15  16  17  18  19\n",
      "  20  21  22  24  25  27  28  29  30  31  32  34  35  36  38  39  40  41\n",
      "  42  43  44  45  46  47  48  49  50  51  52  53  54  55  56  57  58  59\n",
      "  60  61  62  63  64  65  66  67  68  69  70  71  72  74  75  76  77  78\n",
      "  79  80  81  82  83  84  85  86  88  89  90  92  93  94  96  97  99 100\n",
      " 101 102 103 104 105 106 107 108 109 110 111 112 114 115 116 117 118 119\n",
      " 120 121 122 123 125 126 127 129 130 132 133 134 135 136 137 138 139 140\n",
      " 141 142 143 144 145 147 148 149 150 151 152 153 154 155 156 157 158 159\n",
      " 160 161 163 164 165 166 167 168 169 170 171 172 173 174 175 176 177 178\n",
      " 180 181 182]\n",
      "Fold 7\n",
      "\t 165 training points\n",
      "\t 18 test points\n",
      "[  0   1   2   3   5   6   7   8   9  10  11  12  13  14  15  16  18  19\n",
      "  20  21  22  23  24  25  26  28  29  30  31  32  33  34  35  36  37  38\n",
      "  39  40  41  42  43  46  47  48  49  50  51  52  53  54  55  56  57  58\n",
      "  59  60  61  62  63  64  65  66  67  68  69  70  71  72  73  74  75  76\n",
      "  77  78  79  80  82  83  84  85  87  88  89  90  91  92  93  94  95  96\n",
      "  97  98  99 100 101 102 103 105 106 107 108 109 110 111 112 113 114 115\n",
      " 117 118 119 120 122 123 124 125 126 127 128 129 131 132 133 134 135 136\n",
      " 137 138 139 140 142 144 145 146 147 148 150 151 152 153 154 155 156 157\n",
      " 158 159 160 161 162 163 164 167 168 169 170 171 173 174 176 177 178 179\n",
      " 180 181 182]\n",
      "Fold 8\n",
      "\t 165 training points\n",
      "\t 18 test points\n",
      "[  0   1   2   4   5   6   7   8  10  12  13  14  15  17  18  20  21  22\n",
      "  23  24  25  26  27  28  30  31  32  33  35  37  38  39  40  41  42  43\n",
      "  44  45  46  47  48  49  50  51  53  55  57  58  59  60  62  63  64  65\n",
      "  66  67  68  69  70  71  73  74  75  76  77  78  79  80  81  82  83  84\n",
      "  85  86  87  88  89  90  91  92  93  94  95  96  97  98  99 100 101 102\n",
      " 103 104 105 106 107 108 109 110 113 114 115 116 117 118 119 120 121 122\n",
      " 123 124 125 126 127 128 129 130 131 132 133 134 135 136 137 138 139 140\n",
      " 141 142 143 144 145 146 147 148 149 150 151 152 153 154 155 156 157 158\n",
      " 159 160 161 162 163 165 166 167 168 170 171 172 173 174 175 176 177 179\n",
      " 180 181 182]\n",
      "Fold 9\n",
      "\t 165 training points\n",
      "\t 18 test points\n"
     ]
    }
   ],
   "source": [
    "# This is one way to access the training and test points\n",
    "for ix, (tr, te) in enumerate(folds):\n",
    "    print(tr)\n",
    "    print(\"Fold %d\" % ix)\n",
    "    print(\"\\t %d training points\" % len(tr))\n",
    "    print(\"\\t %d test points\" % len(te))"
   ]
  },
  {
   "cell_type": "markdown",
   "metadata": {},
   "source": [
    "**Question:** Create a loop that goes through all 10 folds and for each fold:\n",
    "* trains a Gaussian Naive Bayes model on the training data\n",
    "* uses this model to make predictions on the test data. \n",
    "In this fashion you should be able to form *a single vector of predictions* `y_prob_cv` (as each point from the data appears once as a test point in the cross-validation)."
   ]
  },
  {
   "cell_type": "code",
   "execution_count": 88,
   "metadata": {
    "collapsed": false
   },
   "outputs": [
    {
     "name": "stdout",
     "output_type": "stream",
     "text": [
      "Number of mislabeled points out of a total 163 points : 23\n",
      "Number of mislabeled points out of a total 164 points : 26\n",
      "Number of mislabeled points out of a total 165 points : 24\n",
      "Number of mislabeled points out of a total 165 points : 22\n",
      "Number of mislabeled points out of a total 165 points : 21\n",
      "Number of mislabeled points out of a total 165 points : 24\n",
      "Number of mislabeled points out of a total 165 points : 20\n",
      "Number of mislabeled points out of a total 165 points : 24\n",
      "Number of mislabeled points out of a total 165 points : 25\n",
      "Number of mislabeled points out of a total 165 points : 25\n"
     ]
    }
   ],
   "source": [
    "for ix, (tr, te) in enumerate(folds):\n",
    "    gnb = GaussianNB()\n",
    "    gnb.fit(X[tr],y[tr])\n",
    "    y_pred_cv = gnb.predict(X)\n",
    "    print(\"Number of mislabeled points out of a total %d points : %d\" % \\\n",
    "      (X[tr].shape[0], (y != y_pred_cv).sum()))"
   ]
  },
  {
   "cell_type": "markdown",
   "metadata": {},
   "source": [
    "**Question:** Evaluate the performance of your model (accuracy, AUC, ROC-AUC). How does it compare to the one you previously obtained?"
   ]
  },
  {
   "cell_type": "code",
   "execution_count": null,
   "metadata": {
    "collapsed": false
   },
   "outputs": [],
   "source": []
  },
  {
   "cell_type": "markdown",
   "metadata": {},
   "source": [
    "**Question:** The `sklearn.cross_validation` module provides some utilities to make cross-validated predictions. Compare the results you obtained to what they return."
   ]
  },
  {
   "cell_type": "code",
   "execution_count": null,
   "metadata": {
    "collapsed": false
   },
   "outputs": [],
   "source": [
    "gnb = GaussianNB()\n",
    "cv_aucs = cross_validation.cross_val_score(gnb, X, y, cv=folds, scoring='roc_auc')\n",
    "print np.mean(cv_aucs)\n",
    "\n",
    "# Note that averaging the AUCs obtained over 10 folds is not exactly the same as \n",
    "# globally computing the AUC for the predictions made within the cross-validation loop."
   ]
  },
  {
   "cell_type": "code",
   "execution_count": null,
   "metadata": {
    "collapsed": false
   },
   "outputs": [],
   "source": [
    "gnb = GaussianNB()\n",
    "print \"Cross-validated accuracy: %.3f\" % \\\n",
    "    metrics.accuracy_score(y, cross_validation.cross_val_predict(gnb, X, y, cv=folds))\n",
    "# This should return the same as \n",
    "print \"Cross-validated accuracy: %.3f\" % metrics.accuracy_score(y, np.where(y_prob_cv > 0.5, 1, 0))    "
   ]
  },
  {
   "cell_type": "markdown",
   "metadata": {},
   "source": [
    "## 4. Iris data\n",
    "As an example of a simple dataset, we’re going to take a look at the Iris data stored by scikit-learn. The data is a classical UCI dataset and consists of measurements of three different species of irises.\n",
    "\n",
    "You can learn more about this data set here: https://en.wikipedia.org/wiki/Iris_flower_data_set."
   ]
  },
  {
   "cell_type": "markdown",
   "metadata": {},
   "source": [
    "**Question:** What features could you use to represent irises in order to decide to which of the three species they belong?"
   ]
  },
  {
   "cell_type": "markdown",
   "metadata": {},
   "source": []
  },
  {
   "cell_type": "markdown",
   "metadata": {},
   "source": [
    "scikit-learn has a very straightforward set of data on these iris species. The data consist of the following:\n",
    "* Features in the Iris dataset:\n",
    "    * sepal length in cm\n",
    "    * sepal width in cm\n",
    "    * petal length in cm\n",
    "    * petal width in cm\n",
    "* Target classes to predict:\n",
    "    * Iris setosa\n",
    "    * Iris versicolour\n",
    "    * Iris virginica"
   ]
  },
  {
   "cell_type": "markdown",
   "metadata": {},
   "source": [
    "### Loading the data"
   ]
  },
  {
   "cell_type": "code",
   "execution_count": null,
   "metadata": {
    "collapsed": true
   },
   "outputs": [],
   "source": [
    "from sklearn.datasets import load_iris\n",
    "iris = load_iris()"
   ]
  },
  {
   "cell_type": "code",
   "execution_count": null,
   "metadata": {
    "collapsed": false
   },
   "outputs": [],
   "source": [
    "# iris is a Bunch object\n",
    "# see what’s available in iris:\n",
    "iris.keys()"
   ]
  },
  {
   "cell_type": "code",
   "execution_count": null,
   "metadata": {
    "collapsed": false
   },
   "outputs": [],
   "source": [
    "# The features of each sample flower are stored in the data\n",
    "# attribute of the dataset:\n",
    "n_samples, n_features = iris.data.shape\n",
    "print n_samples\n",
    "print n_features\n",
    "print iris.data[0]"
   ]
  },
  {
   "cell_type": "code",
   "execution_count": null,
   "metadata": {
    "collapsed": false
   },
   "outputs": [],
   "source": [
    "# The information about the class of each sample is stored in the target\n",
    "# attribute of the dataset:\n",
    "print iris.target.shape\n",
    "print iris.target"
   ]
  },
  {
   "cell_type": "code",
   "execution_count": null,
   "metadata": {
    "collapsed": false
   },
   "outputs": [],
   "source": [
    "# The names of the classes are stored in the last attribute,\n",
    "# namely target_names:\n",
    "print iris.target_names"
   ]
  },
  {
   "cell_type": "markdown",
   "metadata": {},
   "source": [
    "### Visualizing the data"
   ]
  },
  {
   "cell_type": "code",
   "execution_count": null,
   "metadata": {
    "collapsed": false
   },
   "outputs": [],
   "source": [
    "# This data is four dimensional, but we can visualize two of the dimensions at a time using a simple scatter-plot.\n",
    "%pylab inline\n",
    "idx_1 = 0 # index of the first feature to plot\n",
    "idx_2 = 1 # index of the second feature to plot\n",
    "\n",
    "# Scatterplot\n",
    "plt.scatter(iris.data[:, idx_1], iris.data[:, idx_2], s=40, c=iris.target)\n",
    "\n",
    "# Create a formatter that will label the colorbar with the correct target names.\n",
    "# lambda i, *args: iris.target_names[int(i)] converts an index i into the corresponding label\n",
    "formatter = plt.FuncFormatter(lambda i, *args: iris.target_names[int(i)])\n",
    "plt.colorbar(ticks=[0, 1, 2], format=formatter)\n",
    "\n",
    "plt.xlabel(iris.feature_names[idx_1], fontsize=14)\n",
    "plt.ylabel(iris.feature_names[idx_2], fontsize=14)"
   ]
  },
  {
   "cell_type": "markdown",
   "metadata": {},
   "source": [
    "**Question:** Change `idx_1` and `idx_2`, and find (visually) which combination of two parameters best separates the three classes."
   ]
  },
  {
   "cell_type": "markdown",
   "metadata": {},
   "source": []
  },
  {
   "cell_type": "markdown",
   "metadata": {},
   "source": [
    "**Question:** Create a Gaussian Naive Bayes classifier and train it on the Iris data, using only the two features you have identified in the previous question. How many instances are misclassified?"
   ]
  },
  {
   "cell_type": "code",
   "execution_count": null,
   "metadata": {
    "collapsed": true
   },
   "outputs": [],
   "source": []
  },
  {
   "cell_type": "markdown",
   "metadata": {},
   "source": [
    "## 5. Digits data\n",
    "\n",
    "Let us now take a look at the Digits dataset. This data set, also very classical, contains images of hand-written digits, each labeled with the corresponding digit. This means there are 10 classes in this data. Each image has been compressed into an 8 × 8 matrix."
   ]
  },
  {
   "cell_type": "markdown",
   "metadata": {},
   "source": [
    "### Loading the digits data"
   ]
  },
  {
   "cell_type": "code",
   "execution_count": null,
   "metadata": {
    "collapsed": true
   },
   "outputs": [],
   "source": [
    "# Load the digits dataset\n",
    "from sklearn.datasets import load_digits\n",
    "digits = load_digits()"
   ]
  },
  {
   "cell_type": "code",
   "execution_count": null,
   "metadata": {
    "collapsed": false
   },
   "outputs": [],
   "source": [
    "# Each data point is an image, and has for target the number it represents\n",
    "print np.unique(digits.target)"
   ]
  },
  {
   "cell_type": "markdown",
   "metadata": {},
   "source": [
    "What is the difference between `digits.data` and `digits.images`? Actually, `digits.data` is simply `digits.images` reshaped, with the 8×8 array flattened out in a 64-dimensional vector. These two representations can exist without needing to fully duplicate the data, and hence the memory overhead is very small. Indeed, the two arrays, although they have different shapes, point at the same memory block. To check this is true:"
   ]
  },
  {
   "cell_type": "code",
   "execution_count": null,
   "metadata": {
    "collapsed": false
   },
   "outputs": [],
   "source": [
    "# check the two arrays contain identical data\n",
    "print np.all(digits.images.reshape((1797, 64)) == digits.data)\n",
    "\n",
    "# check the two arrays point to the same memory address\n",
    "print digits.data.__array_interface__['data']\n",
    "print digits.images.__array_interface__['data']"
   ]
  },
  {
   "cell_type": "markdown",
   "metadata": {},
   "source": [
    "### Visualizing the digits data"
   ]
  },
  {
   "cell_type": "code",
   "execution_count": null,
   "metadata": {
    "collapsed": false
   },
   "outputs": [],
   "source": [
    "# set up a figure that will contain multiple subplots\n",
    "fig = plt.figure(figsize=(6, 6)) # figure size in inches\n",
    "fig.subplots_adjust(left=0, right=1, bottom=0, top=1, hspace=0.05, wspace=0.05)\n",
    "\n",
    "# plot the 49 first digits: each image is 8 by 8 pixels\n",
    "for i in range(49):\n",
    "    ax = fig.add_subplot(7, 7, i + 1, xticks=[], yticks=[])\n",
    "    ax.imshow(digits.images[i], cmap=plt.cm.Greys, interpolation='nearest')\n",
    "    \n",
    "    # label the image with the target value\n",
    "    ax.text(0, 6, str(digits.target[i]))\n",
    "plt.show()    "
   ]
  },
  {
   "cell_type": "markdown",
   "metadata": {},
   "source": [
    "**Question:** What is the effect of the `interpolation='nearest'` parameter?"
   ]
  },
  {
   "cell_type": "markdown",
   "metadata": {},
   "source": []
  },
  {
   "cell_type": "markdown",
   "metadata": {},
   "source": [
    "**Question:** Modify the above script to visualize all the “8” contained in the data. Use the `cmap` option of `imshow` to display the data with a colormap that is more appropriate for visualizing intensities."
   ]
  },
  {
   "cell_type": "code",
   "execution_count": null,
   "metadata": {
    "collapsed": true
   },
   "outputs": [],
   "source": []
  },
  {
   "cell_type": "markdown",
   "metadata": {},
   "source": [
    "**Question:** Create a Gaussian Naive Bayes classifier and train it on the Digits data. Look at some of the mislabeled digits. What were their actual class, what digit were they mistaken for? Can you guess why?"
   ]
  },
  {
   "cell_type": "code",
   "execution_count": null,
   "metadata": {
    "collapsed": true
   },
   "outputs": [],
   "source": []
  }
 ],
 "metadata": {
  "kernelspec": {
   "display_name": "Python [Root]",
   "language": "python",
   "name": "Python [Root]"
  },
  "language_info": {
   "codemirror_mode": {
    "name": "ipython",
    "version": 3
   },
   "file_extension": ".py",
   "mimetype": "text/x-python",
   "name": "python",
   "nbconvert_exporter": "python",
   "pygments_lexer": "ipython3",
   "version": "3.5.2"
  }
 },
 "nbformat": 4,
 "nbformat_minor": 0
}
